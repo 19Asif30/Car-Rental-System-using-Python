{
 "cells": [
  {
   "cell_type": "markdown",
   "metadata": {},
   "source": [
    "# Project 1: Car rental system using Python"
   ]
  },
  {
   "cell_type": "code",
   "execution_count": 1,
   "metadata": {},
   "outputs": [],
   "source": [
    "\n",
    "\n",
    "class Rental:\n",
    "    def __init__(self, list, name):\n",
    "        self.carslist = list\n",
    "        self.name = name\n",
    "        self.lenddict = {}\n",
    "    \n",
    "    def displaycars(self):\n",
    "        print(f\"We have following cars available in our system: {self.name}\")\n",
    "        for car in self.carslist:\n",
    "            print(car)\n",
    "    \n",
    "    def lendcar(self, user, car):\n",
    "        if car not in self.lenddict.keys():\n",
    "            self.lenddict.update({car:user})\n",
    "            print(\"Lender car database has been updatad now.  U can take the car now.\")\n",
    "        else:\n",
    "            print(f\"Car is already being used by {self.lenddict[car]}\")\n",
    "    \n",
    "    def addcar(self, car):\n",
    "        self.carslist.append(car)\n",
    "        \n",
    "    def returncar(self, car):\n",
    "        self.lenddict.pop(car)\n",
    "\n",
    "            "
   ]
  },
  {
   "cell_type": "code",
   "execution_count": 2,
   "metadata": {},
   "outputs": [
    {
     "name": "stdout",
     "output_type": "stream",
     "text": [
      "Welcome to the Usha Car Rental management system.  Enter your choice: \n",
      "1. Display cars\n",
      "2. Lend a car\n",
      "3. Add a car\n",
      "4. Return a car\n",
      "5. Exit\n",
      "1\n",
      "We have following cars available in our system: Usha Car Rental\n",
      "Suzuki\n",
      "Honda i10\n",
      "Honda i20\n",
      "Suzuki Swift dezire\n",
      "Maruti\n",
      "Welcome to the Usha Car Rental management system.  Enter your choice: \n",
      "1. Display cars\n",
      "2. Lend a car\n",
      "3. Add a car\n",
      "4. Return a car\n",
      "5. Exit\n",
      "2\n",
      "Enter the name of the car you want to lend: Lamborghini\n",
      "Enter your name: Asif\n",
      "Lender car database has been updatad now.  U can take the car now.\n",
      "Welcome to the Usha Car Rental management system.  Enter your choice: \n",
      "1. Display cars\n",
      "2. Lend a car\n",
      "3. Add a car\n",
      "4. Return a car\n",
      "5. Exit\n",
      "1\n",
      "We have following cars available in our system: Usha Car Rental\n",
      "Suzuki\n",
      "Honda i10\n",
      "Honda i20\n",
      "Suzuki Swift dezire\n",
      "Maruti\n",
      "Welcome to the Usha Car Rental management system.  Enter your choice: \n",
      "1. Display cars\n",
      "2. Lend a car\n",
      "3. Add a car\n",
      "4. Return a car\n",
      "5. Exit\n",
      "4\n",
      "Enter the name of the car you want to return: Lamborghini\n",
      "Welcome to the Usha Car Rental management system.  Enter your choice: \n",
      "1. Display cars\n",
      "2. Lend a car\n",
      "3. Add a car\n",
      "4. Return a car\n",
      "5. Exit\n",
      "5\n"
     ]
    }
   ],
   "source": [
    "\n",
    "Usha = Rental([\"Suzuki\", \"Honda i10\", \"Honda i20\", \"Suzuki Swift dezire\", \"Maruti\"], \"Usha Car Rental\")\n",
    "\n",
    "while(True):\n",
    "    print(f\"Welcome to the {Usha.name} management system.  Enter your choice: \")\n",
    "    print(\"1. Display cars\")\n",
    "    print(\"2. Lend a car\")\n",
    "    print(\"3. Add a car\")\n",
    "    print(\"4. Return a car\")\n",
    "    print(\"5. Exit\")\n",
    "    user_choice = int(input())\n",
    "    if user_choice not in [1, 2, 3, 4, 5]:\n",
    "        print(\"Please enter a valid option...\")\n",
    "        break\n",
    "    else:\n",
    "        if user_choice == 1:\n",
    "            Usha.displaycars()\n",
    "        elif user_choice == 2:\n",
    "            car = input(\"Enter the name of the car you want to lend: \")\n",
    "            user = input(\"Enter your name: \")\n",
    "            Usha.lendcar(user, car)\n",
    "        elif user_choice == 3:\n",
    "            car = input(\"Enter the name of the car you want to add: \")\n",
    "            Usha.addcar(car)\n",
    "        elif user_choice == 4:\n",
    "            car = input(\"Enter the name of the car you want to return: \")\n",
    "            Usha.returncar(car)\n",
    "        else:\n",
    "            break\n"
   ]
  },
  {
   "cell_type": "code",
   "execution_count": null,
   "metadata": {},
   "outputs": [],
   "source": []
  }
 ],
 "metadata": {
  "kernelspec": {
   "display_name": "Python 3",
   "language": "python",
   "name": "python3"
  },
  "language_info": {
   "codemirror_mode": {
    "name": "ipython",
    "version": 3
   },
   "file_extension": ".py",
   "mimetype": "text/x-python",
   "name": "python",
   "nbconvert_exporter": "python",
   "pygments_lexer": "ipython3",
   "version": "3.8.3"
  }
 },
 "nbformat": 4,
 "nbformat_minor": 4
}
